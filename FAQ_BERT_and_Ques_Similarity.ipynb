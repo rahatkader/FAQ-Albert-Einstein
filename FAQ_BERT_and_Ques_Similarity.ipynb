{
  "cells": [
    {
      "cell_type": "code",
      "source": [
        "from google.colab import drive\n",
        "drive.mount('/content/drive')"
      ],
      "metadata": {
        "colab": {
          "base_uri": "https://localhost:8080/"
        },
        "id": "SaBGwTEMpuBq",
        "outputId": "9f8d9f93-9d80-4da8-d22f-73b37fd87b4b"
      },
      "execution_count": 1,
      "outputs": [
        {
          "output_type": "stream",
          "name": "stdout",
          "text": [
            "Mounted at /content/drive\n"
          ]
        }
      ]
    },
    {
      "cell_type": "code",
      "source": [
        "!pip install bert-embedding"
      ],
      "metadata": {
        "id": "YTubXfYbqfJR"
      },
      "execution_count": null,
      "outputs": []
    },
    {
      "cell_type": "code",
      "execution_count": 4,
      "metadata": {
        "_cell_guid": "b1076dfc-b9ad-4769-8c92-a6c4dae69d19",
        "_kg_hide-input": true,
        "_kg_hide-output": true,
        "_uuid": "8f2839f25d086af736a60e9eeb907d3b93b6e0e5",
        "execution": {
          "iopub.execute_input": "2020-09-13T16:09:56.361012Z",
          "iopub.status.busy": "2020-09-13T16:09:56.360242Z",
          "iopub.status.idle": "2020-09-13T16:10:00.467502Z",
          "shell.execute_reply": "2020-09-13T16:10:00.466774Z"
        },
        "papermill": {
          "duration": 4.157062,
          "end_time": "2020-09-13T16:10:00.467630",
          "exception": false,
          "start_time": "2020-09-13T16:09:56.310568",
          "status": "completed"
        },
        "tags": [],
        "id": "lbR8YU0zpAES"
      },
      "outputs": [],
      "source": [
        "import os, re, io\n",
        "import pandas as pd\n",
        "import numpy as np\n",
        "import requests\n",
        "\n",
        "from gensim.models import TfidfModel\n",
        "from gensim.corpora import Dictionary\n",
        "from sklearn.metrics.pairwise import cosine_similarity\n",
        "from gensim.parsing.preprocessing import remove_stopwords\n",
        "import nltk\n",
        "from nltk.stem import WordNetLemmatizer\n",
        "from nltk import word_tokenize\n",
        "import spacy\n",
        "nlp = spacy.load('en_core_web_sm')"
      ]
    },
    {
      "cell_type": "markdown",
      "metadata": {
        "papermill": {
          "duration": 0.038675,
          "end_time": "2020-09-13T16:10:01.600814",
          "exception": false,
          "start_time": "2020-09-13T16:10:01.562139",
          "status": "completed"
        },
        "tags": [],
        "id": "OB2i-cISpAEV"
      },
      "source": [
        "## Data preparation"
      ]
    },
    {
      "cell_type": "code",
      "execution_count": 5,
      "metadata": {
        "_kg_hide-input": true,
        "execution": {
          "iopub.execute_input": "2020-09-13T16:10:02.028530Z",
          "iopub.status.busy": "2020-09-13T16:10:02.027692Z",
          "iopub.status.idle": "2020-09-13T16:10:02.339290Z",
          "shell.execute_reply": "2020-09-13T16:10:02.339879Z"
        },
        "papermill": {
          "duration": 0.358203,
          "end_time": "2020-09-13T16:10:02.340029",
          "exception": false,
          "start_time": "2020-09-13T16:10:01.981826",
          "status": "completed"
        },
        "tags": [],
        "colab": {
          "base_uri": "https://localhost:8080/",
          "height": 206
        },
        "id": "_M1Ts25UpAEW",
        "outputId": "b2f44f86-f2f6-4f68-8aa5-5ec5c0a6792f"
      },
      "outputs": [
        {
          "output_type": "execute_result",
          "data": {
            "text/plain": [
              "                                Question  \\\n",
              "0         When was Albert Einstein born?   \n",
              "1                     Where was he born?   \n",
              "2                       When did he die?   \n",
              "3                  Who were his parents?   \n",
              "4  Did he have any sisters and brothers?   \n",
              "\n",
              "                                              Answer  \n",
              "0         Albert Einstein was born on 14 March 1879.  \n",
              "1                      He was born in Ulm, Germany.   \n",
              "2  He died 18 April 1955 in Princeton, New Jersey...  \n",
              "3  His father was Hermann Einstein and his mother...  \n",
              "4                      He had one sister named Maja.  "
            ],
            "text/html": [
              "\n",
              "  <div id=\"df-dc4e0383-3aaa-4821-8050-fea6724215df\">\n",
              "    <div class=\"colab-df-container\">\n",
              "      <div>\n",
              "<style scoped>\n",
              "    .dataframe tbody tr th:only-of-type {\n",
              "        vertical-align: middle;\n",
              "    }\n",
              "\n",
              "    .dataframe tbody tr th {\n",
              "        vertical-align: top;\n",
              "    }\n",
              "\n",
              "    .dataframe thead th {\n",
              "        text-align: right;\n",
              "    }\n",
              "</style>\n",
              "<table border=\"1\" class=\"dataframe\">\n",
              "  <thead>\n",
              "    <tr style=\"text-align: right;\">\n",
              "      <th></th>\n",
              "      <th>Question</th>\n",
              "      <th>Answer</th>\n",
              "    </tr>\n",
              "  </thead>\n",
              "  <tbody>\n",
              "    <tr>\n",
              "      <th>0</th>\n",
              "      <td>When was Albert Einstein born?</td>\n",
              "      <td>Albert Einstein was born on 14 March 1879.</td>\n",
              "    </tr>\n",
              "    <tr>\n",
              "      <th>1</th>\n",
              "      <td>Where was he born?</td>\n",
              "      <td>He was born in Ulm, Germany.</td>\n",
              "    </tr>\n",
              "    <tr>\n",
              "      <th>2</th>\n",
              "      <td>When did he die?</td>\n",
              "      <td>He died 18 April 1955 in Princeton, New Jersey...</td>\n",
              "    </tr>\n",
              "    <tr>\n",
              "      <th>3</th>\n",
              "      <td>Who were his parents?</td>\n",
              "      <td>His father was Hermann Einstein and his mother...</td>\n",
              "    </tr>\n",
              "    <tr>\n",
              "      <th>4</th>\n",
              "      <td>Did he have any sisters and brothers?</td>\n",
              "      <td>He had one sister named Maja.</td>\n",
              "    </tr>\n",
              "  </tbody>\n",
              "</table>\n",
              "</div>\n",
              "      <button class=\"colab-df-convert\" onclick=\"convertToInteractive('df-dc4e0383-3aaa-4821-8050-fea6724215df')\"\n",
              "              title=\"Convert this dataframe to an interactive table.\"\n",
              "              style=\"display:none;\">\n",
              "        \n",
              "  <svg xmlns=\"http://www.w3.org/2000/svg\" height=\"24px\"viewBox=\"0 0 24 24\"\n",
              "       width=\"24px\">\n",
              "    <path d=\"M0 0h24v24H0V0z\" fill=\"none\"/>\n",
              "    <path d=\"M18.56 5.44l.94 2.06.94-2.06 2.06-.94-2.06-.94-.94-2.06-.94 2.06-2.06.94zm-11 1L8.5 8.5l.94-2.06 2.06-.94-2.06-.94L8.5 2.5l-.94 2.06-2.06.94zm10 10l.94 2.06.94-2.06 2.06-.94-2.06-.94-.94-2.06-.94 2.06-2.06.94z\"/><path d=\"M17.41 7.96l-1.37-1.37c-.4-.4-.92-.59-1.43-.59-.52 0-1.04.2-1.43.59L10.3 9.45l-7.72 7.72c-.78.78-.78 2.05 0 2.83L4 21.41c.39.39.9.59 1.41.59.51 0 1.02-.2 1.41-.59l7.78-7.78 2.81-2.81c.8-.78.8-2.07 0-2.86zM5.41 20L4 18.59l7.72-7.72 1.47 1.35L5.41 20z\"/>\n",
              "  </svg>\n",
              "      </button>\n",
              "      \n",
              "  <style>\n",
              "    .colab-df-container {\n",
              "      display:flex;\n",
              "      flex-wrap:wrap;\n",
              "      gap: 12px;\n",
              "    }\n",
              "\n",
              "    .colab-df-convert {\n",
              "      background-color: #E8F0FE;\n",
              "      border: none;\n",
              "      border-radius: 50%;\n",
              "      cursor: pointer;\n",
              "      display: none;\n",
              "      fill: #1967D2;\n",
              "      height: 32px;\n",
              "      padding: 0 0 0 0;\n",
              "      width: 32px;\n",
              "    }\n",
              "\n",
              "    .colab-df-convert:hover {\n",
              "      background-color: #E2EBFA;\n",
              "      box-shadow: 0px 1px 2px rgba(60, 64, 67, 0.3), 0px 1px 3px 1px rgba(60, 64, 67, 0.15);\n",
              "      fill: #174EA6;\n",
              "    }\n",
              "\n",
              "    [theme=dark] .colab-df-convert {\n",
              "      background-color: #3B4455;\n",
              "      fill: #D2E3FC;\n",
              "    }\n",
              "\n",
              "    [theme=dark] .colab-df-convert:hover {\n",
              "      background-color: #434B5C;\n",
              "      box-shadow: 0px 1px 3px 1px rgba(0, 0, 0, 0.15);\n",
              "      filter: drop-shadow(0px 1px 2px rgba(0, 0, 0, 0.3));\n",
              "      fill: #FFFFFF;\n",
              "    }\n",
              "  </style>\n",
              "\n",
              "      <script>\n",
              "        const buttonEl =\n",
              "          document.querySelector('#df-dc4e0383-3aaa-4821-8050-fea6724215df button.colab-df-convert');\n",
              "        buttonEl.style.display =\n",
              "          google.colab.kernel.accessAllowed ? 'block' : 'none';\n",
              "\n",
              "        async function convertToInteractive(key) {\n",
              "          const element = document.querySelector('#df-dc4e0383-3aaa-4821-8050-fea6724215df');\n",
              "          const dataTable =\n",
              "            await google.colab.kernel.invokeFunction('convertToInteractive',\n",
              "                                                     [key], {});\n",
              "          if (!dataTable) return;\n",
              "\n",
              "          const docLinkHtml = 'Like what you see? Visit the ' +\n",
              "            '<a target=\"_blank\" href=https://colab.research.google.com/notebooks/data_table.ipynb>data table notebook</a>'\n",
              "            + ' to learn more about interactive tables.';\n",
              "          element.innerHTML = '';\n",
              "          dataTable['output_type'] = 'display_data';\n",
              "          await google.colab.output.renderOutput(dataTable, element);\n",
              "          const docLink = document.createElement('div');\n",
              "          docLink.innerHTML = docLinkHtml;\n",
              "          element.appendChild(docLink);\n",
              "        }\n",
              "      </script>\n",
              "    </div>\n",
              "  </div>\n",
              "  "
            ]
          },
          "metadata": {},
          "execution_count": 5
        }
      ],
      "source": [
        "QA_df = pd.read_csv(\"/content/drive/MyDrive/tutorial/FAQ nlp/FAQs.csv\")\n",
        "QA_df.head()"
      ]
    },
    {
      "cell_type": "markdown",
      "metadata": {
        "papermill": {
          "duration": 0.03946,
          "end_time": "2020-09-13T16:10:02.419964",
          "exception": false,
          "start_time": "2020-09-13T16:10:02.380504",
          "status": "completed"
        },
        "tags": [],
        "id": "I04gtS9ypAEX"
      },
      "source": [
        "## Preprocessing Techniques\n",
        "\n",
        "1. Remove unwanted characters\n",
        "2. Remove Question number\n",
        "3. Remove stopwords"
      ]
    },
    {
      "cell_type": "code",
      "execution_count": 7,
      "metadata": {
        "execution": {
          "iopub.execute_input": "2020-09-13T16:10:02.522050Z",
          "iopub.status.busy": "2020-09-13T16:10:02.518959Z",
          "iopub.status.idle": "2020-09-13T16:10:02.525464Z",
          "shell.execute_reply": "2020-09-13T16:10:02.524693Z"
        },
        "papermill": {
          "duration": 0.065724,
          "end_time": "2020-09-13T16:10:02.525593",
          "exception": false,
          "start_time": "2020-09-13T16:10:02.459869",
          "status": "completed"
        },
        "tags": [],
        "id": "eEFKPribpAEX"
      },
      "outputs": [],
      "source": [
        "## Data Preprocessing\n",
        "class TextPreprocessor():\n",
        "    def __init__(self, data_df, column_name=None):\n",
        "        self.data_df = data_df  \n",
        "        if not column_name and type(column_name) == str:\n",
        "            raise Exception(\"column name is mandatory. Make sure type is string format\")\n",
        "        self.column = column_name\n",
        "        self.convert_lowercase()    \n",
        "        self.applied_stopword = False\n",
        "        self.processed_column_name = f\"processed_{self.column}\"\n",
        "        \n",
        "    def convert_lowercase(self):\n",
        "        ## fill empty values into empty\n",
        "        self.data_df.fillna('',inplace=True)\n",
        "        ## reduce all the columns to lowercase\n",
        "        self.data_df = self.data_df.apply(lambda column: column.astype(str).str.lower(), axis=0)    \n",
        "\n",
        "    def remove_question_no(self):\n",
        "        ## remove question no        \n",
        "        self.data_df[self.column] = self.data_df[self.column].apply(lambda row: re.sub(r'^\\d+[.]',' ', row))    \n",
        "        \n",
        "    def remove_symbols(self):\n",
        "        ## remove unwanted character          \n",
        "        self.data_df[self.column] = self.data_df[self.column].apply(lambda row: re.sub(r'[^A-Za-z0-9\\s]', ' ', row))    \n",
        "\n",
        "    def remove_stopwords(self):\n",
        "        ## remove stopwords and create a new column \n",
        "        for idx, question in enumerate(self.data_df[self.column]):      \n",
        "            self.data_df.loc[idx, self.processed_column_name] = remove_stopwords(question)        \n",
        "\n",
        "\n",
        "    def process(self, perform_stopword = True):\n",
        "        self.remove_question_no()\n",
        "        self.remove_symbols()\n",
        "        if perform_stopword:\n",
        "            self.remove_stopwords()\n",
        "        return self.data_df"
      ]
    },
    {
      "cell_type": "code",
      "execution_count": 8,
      "metadata": {
        "execution": {
          "iopub.execute_input": "2020-09-13T16:10:02.613794Z",
          "iopub.status.busy": "2020-09-13T16:10:02.613028Z",
          "iopub.status.idle": "2020-09-13T16:10:03.139477Z",
          "shell.execute_reply": "2020-09-13T16:10:03.138820Z"
        },
        "papermill": {
          "duration": 0.573704,
          "end_time": "2020-09-13T16:10:03.139618",
          "exception": false,
          "start_time": "2020-09-13T16:10:02.565914",
          "status": "completed"
        },
        "tags": [],
        "colab": {
          "base_uri": "https://localhost:8080/",
          "height": 206
        },
        "id": "fmZYWJErpAEY",
        "outputId": "cb638d8c-f410-4175-be1e-bf7509ae9e34"
      },
      "outputs": [
        {
          "output_type": "execute_result",
          "data": {
            "text/plain": [
              "                                Question  \\\n",
              "0         when was albert einstein born    \n",
              "1                     where was he born    \n",
              "2                       when did he die    \n",
              "3                  who were his parents    \n",
              "4  did he have any sisters and brothers    \n",
              "\n",
              "                                              Answer    processed_Question  \n",
              "0         albert einstein was born on 14 march 1879.  albert einstein born  \n",
              "1                      he was born in ulm, germany.                   born  \n",
              "2  he died 18 april 1955 in princeton, new jersey...                   die  \n",
              "3  his father was hermann einstein and his mother...               parents  \n",
              "4                      he had one sister named maja.      sisters brothers  "
            ],
            "text/html": [
              "\n",
              "  <div id=\"df-b5f1e594-87ff-4ebf-ad40-358f71180809\">\n",
              "    <div class=\"colab-df-container\">\n",
              "      <div>\n",
              "<style scoped>\n",
              "    .dataframe tbody tr th:only-of-type {\n",
              "        vertical-align: middle;\n",
              "    }\n",
              "\n",
              "    .dataframe tbody tr th {\n",
              "        vertical-align: top;\n",
              "    }\n",
              "\n",
              "    .dataframe thead th {\n",
              "        text-align: right;\n",
              "    }\n",
              "</style>\n",
              "<table border=\"1\" class=\"dataframe\">\n",
              "  <thead>\n",
              "    <tr style=\"text-align: right;\">\n",
              "      <th></th>\n",
              "      <th>Question</th>\n",
              "      <th>Answer</th>\n",
              "      <th>processed_Question</th>\n",
              "    </tr>\n",
              "  </thead>\n",
              "  <tbody>\n",
              "    <tr>\n",
              "      <th>0</th>\n",
              "      <td>when was albert einstein born</td>\n",
              "      <td>albert einstein was born on 14 march 1879.</td>\n",
              "      <td>albert einstein born</td>\n",
              "    </tr>\n",
              "    <tr>\n",
              "      <th>1</th>\n",
              "      <td>where was he born</td>\n",
              "      <td>he was born in ulm, germany.</td>\n",
              "      <td>born</td>\n",
              "    </tr>\n",
              "    <tr>\n",
              "      <th>2</th>\n",
              "      <td>when did he die</td>\n",
              "      <td>he died 18 april 1955 in princeton, new jersey...</td>\n",
              "      <td>die</td>\n",
              "    </tr>\n",
              "    <tr>\n",
              "      <th>3</th>\n",
              "      <td>who were his parents</td>\n",
              "      <td>his father was hermann einstein and his mother...</td>\n",
              "      <td>parents</td>\n",
              "    </tr>\n",
              "    <tr>\n",
              "      <th>4</th>\n",
              "      <td>did he have any sisters and brothers</td>\n",
              "      <td>he had one sister named maja.</td>\n",
              "      <td>sisters brothers</td>\n",
              "    </tr>\n",
              "  </tbody>\n",
              "</table>\n",
              "</div>\n",
              "      <button class=\"colab-df-convert\" onclick=\"convertToInteractive('df-b5f1e594-87ff-4ebf-ad40-358f71180809')\"\n",
              "              title=\"Convert this dataframe to an interactive table.\"\n",
              "              style=\"display:none;\">\n",
              "        \n",
              "  <svg xmlns=\"http://www.w3.org/2000/svg\" height=\"24px\"viewBox=\"0 0 24 24\"\n",
              "       width=\"24px\">\n",
              "    <path d=\"M0 0h24v24H0V0z\" fill=\"none\"/>\n",
              "    <path d=\"M18.56 5.44l.94 2.06.94-2.06 2.06-.94-2.06-.94-.94-2.06-.94 2.06-2.06.94zm-11 1L8.5 8.5l.94-2.06 2.06-.94-2.06-.94L8.5 2.5l-.94 2.06-2.06.94zm10 10l.94 2.06.94-2.06 2.06-.94-2.06-.94-.94-2.06-.94 2.06-2.06.94z\"/><path d=\"M17.41 7.96l-1.37-1.37c-.4-.4-.92-.59-1.43-.59-.52 0-1.04.2-1.43.59L10.3 9.45l-7.72 7.72c-.78.78-.78 2.05 0 2.83L4 21.41c.39.39.9.59 1.41.59.51 0 1.02-.2 1.41-.59l7.78-7.78 2.81-2.81c.8-.78.8-2.07 0-2.86zM5.41 20L4 18.59l7.72-7.72 1.47 1.35L5.41 20z\"/>\n",
              "  </svg>\n",
              "      </button>\n",
              "      \n",
              "  <style>\n",
              "    .colab-df-container {\n",
              "      display:flex;\n",
              "      flex-wrap:wrap;\n",
              "      gap: 12px;\n",
              "    }\n",
              "\n",
              "    .colab-df-convert {\n",
              "      background-color: #E8F0FE;\n",
              "      border: none;\n",
              "      border-radius: 50%;\n",
              "      cursor: pointer;\n",
              "      display: none;\n",
              "      fill: #1967D2;\n",
              "      height: 32px;\n",
              "      padding: 0 0 0 0;\n",
              "      width: 32px;\n",
              "    }\n",
              "\n",
              "    .colab-df-convert:hover {\n",
              "      background-color: #E2EBFA;\n",
              "      box-shadow: 0px 1px 2px rgba(60, 64, 67, 0.3), 0px 1px 3px 1px rgba(60, 64, 67, 0.15);\n",
              "      fill: #174EA6;\n",
              "    }\n",
              "\n",
              "    [theme=dark] .colab-df-convert {\n",
              "      background-color: #3B4455;\n",
              "      fill: #D2E3FC;\n",
              "    }\n",
              "\n",
              "    [theme=dark] .colab-df-convert:hover {\n",
              "      background-color: #434B5C;\n",
              "      box-shadow: 0px 1px 3px 1px rgba(0, 0, 0, 0.15);\n",
              "      filter: drop-shadow(0px 1px 2px rgba(0, 0, 0, 0.3));\n",
              "      fill: #FFFFFF;\n",
              "    }\n",
              "  </style>\n",
              "\n",
              "      <script>\n",
              "        const buttonEl =\n",
              "          document.querySelector('#df-b5f1e594-87ff-4ebf-ad40-358f71180809 button.colab-df-convert');\n",
              "        buttonEl.style.display =\n",
              "          google.colab.kernel.accessAllowed ? 'block' : 'none';\n",
              "\n",
              "        async function convertToInteractive(key) {\n",
              "          const element = document.querySelector('#df-b5f1e594-87ff-4ebf-ad40-358f71180809');\n",
              "          const dataTable =\n",
              "            await google.colab.kernel.invokeFunction('convertToInteractive',\n",
              "                                                     [key], {});\n",
              "          if (!dataTable) return;\n",
              "\n",
              "          const docLinkHtml = 'Like what you see? Visit the ' +\n",
              "            '<a target=\"_blank\" href=https://colab.research.google.com/notebooks/data_table.ipynb>data table notebook</a>'\n",
              "            + ' to learn more about interactive tables.';\n",
              "          element.innerHTML = '';\n",
              "          dataTable['output_type'] = 'display_data';\n",
              "          await google.colab.output.renderOutput(dataTable, element);\n",
              "          const docLink = document.createElement('div');\n",
              "          docLink.innerHTML = docLinkHtml;\n",
              "          element.appendChild(docLink);\n",
              "        }\n",
              "      </script>\n",
              "    </div>\n",
              "  </div>\n",
              "  "
            ]
          },
          "metadata": {},
          "execution_count": 8
        }
      ],
      "source": [
        "## pre-process training question data\n",
        "text_preprocessor = TextPreprocessor(QA_df.copy(), column_name=\"Question\")\n",
        "processed_QA_df = text_preprocessor.process(perform_stopword=True)\n",
        "processed_QA_df.head()"
      ]
    },
    {
      "cell_type": "markdown",
      "metadata": {
        "papermill": {
          "duration": 0.040713,
          "end_time": "2020-09-13T16:10:03.221690",
          "exception": false,
          "start_time": "2020-09-13T16:10:03.180977",
          "status": "completed"
        },
        "tags": [],
        "id": "t-YUXYnipAEY"
      },
      "source": [
        "## Techniques for Question representations\n",
        "\n",
        "In this section will be discussing on multiple ways of representing FAQ questions.\n",
        "\n",
        "1. TF-IDF\n",
        "2. Word Embedding\n",
        "3. BERT Embedding\n",
        "\n",
        "\n",
        "### TF_IDF Representation\n",
        "\n",
        "The first approach we will use for semantic similarity is leveraging Bag of Words (BOW). TF-IDF transforms the text into meaningful numbers. The technique is a widely used feature extraction in NLP applications. TF (Term Frequency) measures the no of times that words appear in a document. IDF (Inverse Document Frequency) measures low value for words that has high frequency across all the documents."
      ]
    },
    {
      "cell_type": "code",
      "source": [
        "class TF_IDF():\n",
        "    def __init__(self):\n",
        "        self.dictionary = None    \n",
        "        self.model = None\n",
        "        self.bow_corpus = None\n",
        "\n",
        "    def create_tf_idf_model(self, data_df, column_name):\n",
        "        ## create sentence token list\n",
        "        sentence_token_list = [sentence.split(\" \") for sentence in data_df[column_name]]\n",
        "\n",
        "        ## dataset vocabulary\n",
        "        self.dictionary = Dictionary(sentence_token_list) \n",
        "\n",
        "        ## bow representation of dataset\n",
        "        self.bow_corpus = [self.dictionary.doc2bow(sentence_tokens) for sentence_tokens in sentence_token_list]\n",
        "\n",
        "        ## compute TF-IDF score for corpus\n",
        "        self.model = TfidfModel(self.bow_corpus)\n",
        "\n",
        "        ## representation of question and respective TF-IDF value\n",
        "        print(f\"First 10 question representation of TF-IDF vector\")\n",
        "        for index, sentence in enumerate(data_df[column_name]):\n",
        "            if index <= 10:\n",
        "                print(f\"{sentence} {self.model[self.bow_corpus[index]]}\")\n",
        "            else:\n",
        "                break\n",
        "\n",
        "    def get_vector_for_test_set(self, test_df, column_name):\n",
        "        ## store tf-idf vector\n",
        "        testset_tf_idf_vector = []\n",
        "        sentence_token_list = [sentence.split(\" \") for sentence in test_df[column_name]]\n",
        "        test_bow_corpus = [self.dictionary.doc2bow(sentence_tokens) for sentence_tokens in sentence_token_list]   \n",
        "        for test_sentence in test_bow_corpus:\n",
        "            testset_tf_idf_vector.append(self.model[test_sentence])      \n",
        "\n",
        "        return testset_tf_idf_vector\n",
        "\n",
        "    def get_training_QA_vectors(self):\n",
        "        QA_vectors = []\n",
        "        for sentence_vector in self.bow_corpus:\n",
        "            QA_vectors.append(self.model[sentence_vector])      \n",
        "        return QA_vectors\n",
        "\n",
        "    def get_train_vocabulary(self):\n",
        "        vocab = []\n",
        "        for index in self.dictionary:\n",
        "            vocab.append(self.dictionary[index])\n",
        "        return vocab"
      ],
      "metadata": {
        "id": "Jb4pvmaPbqZC"
      },
      "execution_count": 16,
      "outputs": []
    },
    {
      "cell_type": "markdown",
      "metadata": {
        "papermill": {
          "duration": 0.040779,
          "end_time": "2020-09-13T16:10:03.409022",
          "exception": false,
          "start_time": "2020-09-13T16:10:03.368243",
          "status": "completed"
        },
        "tags": [],
        "id": "xOuiGIiWpAEY"
      },
      "source": [
        "### Word Embedding\n",
        "\n",
        "*GloVe* is an unsupervised learning algorithm for obtaining vector representations for words. It trained on the global word-word co-occurrence matrix. I downloaded a pre-trained word vector from Glove for our analysis. The code snippets for generating word embedding representation as below code snippet,"
      ]
    },
    {
      "cell_type": "code",
      "execution_count": 9,
      "metadata": {
        "execution": {
          "iopub.execute_input": "2020-09-13T16:10:03.510351Z",
          "iopub.status.busy": "2020-09-13T16:10:03.506538Z",
          "iopub.status.idle": "2020-09-13T16:10:03.513487Z",
          "shell.execute_reply": "2020-09-13T16:10:03.514076Z"
        },
        "papermill": {
          "duration": 0.063138,
          "end_time": "2020-09-13T16:10:03.514261",
          "exception": false,
          "start_time": "2020-09-13T16:10:03.451123",
          "status": "completed"
        },
        "tags": [],
        "id": "TiQN_wnOpAEZ"
      },
      "outputs": [],
      "source": [
        "class Embeddings():\n",
        "    def __init__(self, model_path):\n",
        "        self.model_path = model_path\n",
        "        self.model = None\n",
        "        self.__load_model__()\n",
        "        \n",
        "    def __load_model__(self):\n",
        "        #word_vectors = api.load(\"glove-wiki-gigaword-100\")  \n",
        "        model_name = 'glove-twitter-25' #'word2vec-google-news-50' #'glove-twitter-25'  \n",
        "        if not os.path.exists(self.model_path+ model_name):\n",
        "            print(\"Downloading model\")\n",
        "            self.model = api.load(model_name)\n",
        "            self.model.save(self.model_path+ model_name)\n",
        "        else:\n",
        "            print(\"Loading model from Drive\")\n",
        "            self.model = KeyedVectors.load(self.model_path+ model_name)\n",
        "        \n",
        "    def get_oov_from_model(self, document_vocabulary):\n",
        "        ## the below words are not available in our pre-trained model model_name\n",
        "        print(\"The below words are not found in our pre-trained model\")\n",
        "        words = []\n",
        "        for word in set(document_vocabulary):  \n",
        "            if word not in self.model:\n",
        "                words.append(word)\n",
        "        print(words)  \n",
        "\n",
        "    def get_sentence_embeddings(self, data_df, column_name):\n",
        "        sentence_embeddings_list = []\n",
        "        for sentence in data_df[column_name]:      \n",
        "            sentence_embeddings = np.repeat(0, self.model.vector_size)\n",
        "            try:\n",
        "                tokens = sentence.split(\" \")\n",
        "                ## get the word embedding\n",
        "                for word in tokens:\n",
        "                    if word in self.model:\n",
        "                        word_embedding = self.model[word]\n",
        "                    else:\n",
        "                        word_embedding = np.repeat(0, self.model.vector_size)          \n",
        "                    sentence_embeddings = sentence_embeddings + word_embedding\n",
        "                ## take the average for sentence embeddings\n",
        "                #sentence_embeddings = sentence_embeddings / len(tokens)\n",
        "                sentence_embeddings_list.append(sentence_embeddings.reshape(1, -1))\n",
        "            except Exception as e:\n",
        "                print(e)\n",
        "            \n",
        "        return sentence_embeddings_list"
      ]
    },
    {
      "cell_type": "markdown",
      "metadata": {
        "papermill": {
          "duration": 0.041036,
          "end_time": "2020-09-13T16:10:03.596944",
          "exception": false,
          "start_time": "2020-09-13T16:10:03.555908",
          "status": "completed"
        },
        "tags": [],
        "id": "LP0ktWbdpAEZ"
      },
      "source": [
        "### BERT Embedding\n",
        "\n",
        "*BERT* is a transformer-based model attempts to use the context of words to get embedding. BERT broke several records in NLP tasks. \n",
        "\n",
        "\n",
        "We observe that the relationship of the word “to” to other words in the sentence are important to decode the meaning semantically. Returning information about USA citizens traveling to Brazil is not relevant since we are talking about Brazil citizens traveling to the USA. BERT can handle this well."
      ]
    },
    {
      "cell_type": "code",
      "execution_count": 10,
      "metadata": {
        "_kg_hide-input": true,
        "_kg_hide-output": true,
        "execution": {
          "iopub.execute_input": "2020-09-13T16:10:42.798830Z",
          "iopub.status.busy": "2020-09-13T16:10:42.798042Z",
          "iopub.status.idle": "2020-09-13T16:10:44.788892Z",
          "shell.execute_reply": "2020-09-13T16:10:44.788226Z"
        },
        "papermill": {
          "duration": 2.073507,
          "end_time": "2020-09-13T16:10:44.789055",
          "exception": false,
          "start_time": "2020-09-13T16:10:42.715548",
          "status": "completed"
        },
        "tags": [],
        "id": "59GPRT2SpAEZ"
      },
      "outputs": [],
      "source": [
        "from bert_embedding import BertEmbedding"
      ]
    },
    {
      "cell_type": "code",
      "execution_count": 11,
      "metadata": {
        "execution": {
          "iopub.execute_input": "2020-09-13T16:10:44.948998Z",
          "iopub.status.busy": "2020-09-13T16:10:44.948010Z",
          "iopub.status.idle": "2020-09-13T16:10:44.951422Z",
          "shell.execute_reply": "2020-09-13T16:10:44.950661Z"
        },
        "papermill": {
          "duration": 0.085409,
          "end_time": "2020-09-13T16:10:44.951546",
          "exception": false,
          "start_time": "2020-09-13T16:10:44.866137",
          "status": "completed"
        },
        "tags": [],
        "id": "4b13584GpAEZ"
      },
      "outputs": [],
      "source": [
        "## get bert embeddings\n",
        "def get_bert_embeddings(sentences):\n",
        "    bert_embedding = BertEmbedding()\n",
        "    return bert_embedding(sentences)"
      ]
    },
    {
      "cell_type": "markdown",
      "metadata": {
        "papermill": {
          "duration": 0.076988,
          "end_time": "2020-09-13T16:10:45.106960",
          "exception": false,
          "start_time": "2020-09-13T16:10:45.029972",
          "status": "completed"
        },
        "tags": [],
        "id": "-dfGA5WCpAEZ"
      },
      "source": [
        "### Use above techniques for our analysis"
      ]
    },
    {
      "cell_type": "markdown",
      "source": [
        "#### TF-IDF Computation"
      ],
      "metadata": {
        "id": "O16HJ03edG-K"
      }
    },
    {
      "cell_type": "code",
      "source": [
        "tf_idf = TF_IDF()\n",
        "tf_idf.create_tf_idf_model(processed_QA_df, \"processed_Question\")\n",
        "## get the tf-idf reprentation \n",
        "question_QA_vectors = tf_idf.get_training_QA_vectors()"
      ],
      "metadata": {
        "colab": {
          "base_uri": "https://localhost:8080/"
        },
        "id": "y2SJ0gx1bx_x",
        "outputId": "afebdf99-9492-4f8e-c0e7-f717bdaed97e"
      },
      "execution_count": 17,
      "outputs": [
        {
          "output_type": "stream",
          "name": "stdout",
          "text": [
            "First 10 question representation of TF-IDF vector\n",
            "albert einstein born [(0, 0.5138715540007341), (1, 0.6869294374080508), (2, 0.5138715540007341)]\n",
            "born [(1, 1.0)]\n",
            "die [(3, 1.0)]\n",
            "parents [(4, 1.0)]\n",
            "sisters brothers [(5, 0.7071067811865476), (6, 0.7071067811865476)]\n",
            "marry children [(7, 0.7071067811865476), (8, 0.7071067811865476)]\n",
            "receive education [(9, 0.819628335022292), (10, 0.5728956208844553)]\n",
            "albert einstein awarded nobel prize physics [(0, 0.297281782345028), (2, 0.297281782345028), (11, 0.568548224666586), (12, 0.297281782345028), (13, 0.568548224666586), (14, 0.297281782345028)]\n",
            "albert einstein attend nobel prize award ceremony [(0, 0.25843291327671597), (2, 0.25843291327671597), (12, 0.25843291327671597), (14, 0.25843291327671597), (15, 0.49425017866840054), (16, 0.49425017866840054), (17, 0.49425017866840054)]\n",
            "receive nobel prize [(10, 0.6869294374080508), (12, 0.5138715540007341), (14, 0.5138715540007341)]\n"
          ]
        }
      ]
    },
    {
      "cell_type": "code",
      "source": [
        "## Get the document vocabulary list from TF-IDF\n",
        "document_vocabulary = tf_idf.get_train_vocabulary()"
      ],
      "metadata": {
        "id": "OrznNX9dbyjJ"
      },
      "execution_count": 18,
      "outputs": []
    },
    {
      "cell_type": "markdown",
      "metadata": {
        "papermill": {
          "duration": 0.077699,
          "end_time": "2020-09-13T16:10:45.757504",
          "exception": false,
          "start_time": "2020-09-13T16:10:45.679805",
          "status": "completed"
        },
        "tags": [],
        "id": "0JxoundkpAEa"
      },
      "source": [
        "#### Embeddings (Glove)"
      ]
    },
    {
      "cell_type": "code",
      "execution_count": 12,
      "metadata": {
        "_kg_hide-input": true,
        "_kg_hide-output": true,
        "execution": {
          "iopub.execute_input": "2020-09-13T16:10:45.918924Z",
          "iopub.status.busy": "2020-09-13T16:10:45.918136Z",
          "iopub.status.idle": "2020-09-13T16:10:45.923324Z",
          "shell.execute_reply": "2020-09-13T16:10:45.922651Z"
        },
        "papermill": {
          "duration": 0.088302,
          "end_time": "2020-09-13T16:10:45.923454",
          "exception": false,
          "start_time": "2020-09-13T16:10:45.835152",
          "status": "completed"
        },
        "tags": [],
        "id": "QJy0o0OzpAEa"
      },
      "outputs": [],
      "source": [
        "import gensim.downloader as api\n",
        "from gensim.models import KeyedVectors"
      ]
    },
    {
      "cell_type": "code",
      "execution_count": 19,
      "metadata": {
        "execution": {
          "iopub.execute_input": "2020-09-13T16:10:46.088013Z",
          "iopub.status.busy": "2020-09-13T16:10:46.087248Z",
          "iopub.status.idle": "2020-09-13T16:12:29.876137Z",
          "shell.execute_reply": "2020-09-13T16:12:29.877035Z"
        },
        "papermill": {
          "duration": 103.875742,
          "end_time": "2020-09-13T16:12:29.877281",
          "exception": false,
          "start_time": "2020-09-13T16:10:46.001539",
          "status": "completed"
        },
        "tags": [],
        "colab": {
          "base_uri": "https://localhost:8080/"
        },
        "id": "17KTXWTwpAEa",
        "outputId": "6e4830db-6b27-4e5c-b6c0-a8135e7e528b"
      },
      "outputs": [
        {
          "output_type": "stream",
          "name": "stdout",
          "text": [
            "Loading model from Drive\n",
            "The below words are not found in our pre-trained model\n",
            "[]\n"
          ]
        }
      ],
      "source": [
        "## create Embedding object\n",
        "embedding = Embeddings(\"\")\n",
        "## look for out of vocabulary FAQ dataset - pretrained model\n",
        "embedding.get_oov_from_model(document_vocabulary)\n",
        "## get the sentence embedding for FAQ dataset\n",
        "question_QA_embeddings = embedding.get_sentence_embeddings(processed_QA_df, \"processed_Question\")"
      ]
    },
    {
      "cell_type": "markdown",
      "metadata": {
        "papermill": {
          "duration": 5.501289,
          "end_time": "2020-09-13T16:12:40.976876",
          "exception": false,
          "start_time": "2020-09-13T16:12:35.475587",
          "status": "completed"
        },
        "tags": [],
        "id": "CuybSBJlpAEa"
      },
      "source": [
        "#### BERT Embeddings"
      ]
    },
    {
      "cell_type": "code",
      "execution_count": 20,
      "metadata": {
        "execution": {
          "iopub.execute_input": "2020-09-13T16:12:52.075281Z",
          "iopub.status.busy": "2020-09-13T16:12:52.065804Z",
          "iopub.status.idle": "2020-09-13T16:13:18.354032Z",
          "shell.execute_reply": "2020-09-13T16:13:18.355381Z"
        },
        "papermill": {
          "duration": 31.811197,
          "end_time": "2020-09-13T16:13:18.355632",
          "exception": false,
          "start_time": "2020-09-13T16:12:46.544435",
          "status": "completed"
        },
        "tags": [],
        "colab": {
          "base_uri": "https://localhost:8080/"
        },
        "id": "RoN_1Xm8pAEb",
        "outputId": "72bf36b5-67d1-471e-a453-ebbdaf1382e3"
      },
      "outputs": [
        {
          "output_type": "stream",
          "name": "stdout",
          "text": [
            "Vocab file is not found. Downloading.\n",
            "Downloading /root/.mxnet/models/book_corpus_wiki_en_uncased-a6607397.zip from https://apache-mxnet.s3-accelerate.dualstack.amazonaws.com/gluon/dataset/vocab/book_corpus_wiki_en_uncased-a6607397.zip...\n",
            "Downloading /root/.mxnet/models/bert_12_768_12_book_corpus_wiki_en_uncased-75cc780f.zip from https://apache-mxnet.s3-accelerate.dualstack.amazonaws.com/gluon/models/bert_12_768_12_book_corpus_wiki_en_uncased-75cc780f.zip...\n"
          ]
        }
      ],
      "source": [
        "question_QA_bert_embeddings_list = get_bert_embeddings(processed_QA_df[\"Question\"].to_list())"
      ]
    },
    {
      "cell_type": "markdown",
      "metadata": {
        "papermill": {
          "duration": 5.584774,
          "end_time": "2020-09-13T16:14:36.801448",
          "exception": false,
          "start_time": "2020-09-13T16:14:31.216674",
          "status": "completed"
        },
        "tags": [],
        "id": "5OZpBN4gpAEc"
      },
      "source": [
        "## Evaluate with test query"
      ]
    },
    {
      "cell_type": "markdown",
      "metadata": {
        "papermill": {
          "duration": 5.600279,
          "end_time": "2020-09-13T16:14:47.886160",
          "exception": false,
          "start_time": "2020-09-13T16:14:42.285881",
          "status": "completed"
        },
        "tags": [],
        "id": "c6UsIvGkpAEc"
      },
      "source": [
        "One of the best techniques to find a similarity score is **Cosine Similarity**. We will use cosine similarity for comparing each representation now."
      ]
    },
    {
      "cell_type": "code",
      "execution_count": 21,
      "metadata": {
        "execution": {
          "iopub.execute_input": "2020-09-13T16:14:59.060080Z",
          "iopub.status.busy": "2020-09-13T16:14:59.059247Z",
          "iopub.status.idle": "2020-09-13T16:14:59.062788Z",
          "shell.execute_reply": "2020-09-13T16:14:59.062105Z"
        },
        "papermill": {
          "duration": 5.574705,
          "end_time": "2020-09-13T16:14:59.062925",
          "exception": false,
          "start_time": "2020-09-13T16:14:53.488220",
          "status": "completed"
        },
        "tags": [],
        "id": "VXUFUV1xpAEc"
      },
      "outputs": [],
      "source": [
        "## helps to retrieve similar question based of input vectors/embeddings for test query\n",
        "def retrieveSimilarFAQ(train_question_vectors, test_question_vectors, train_QA_df, train_column_name, test_QA_df, test_column_name):\n",
        "    similar_question_index = []\n",
        "    for test_index, test_vector in enumerate(test_question_vectors):\n",
        "        sim, sim_Q_index = -1, -1\n",
        "        for train_index, train_vector in enumerate(train_question_vectors):\n",
        "            sim_score = cosine_similarity(train_vector, test_vector)[0][0]\n",
        "            \n",
        "            if sim < sim_score:\n",
        "                sim = sim_score\n",
        "                sim_Q_index = train_index\n",
        "\n",
        "        print(\"######\")\n",
        "        print(f\"Query Question: {test_QA_df[test_column_name].iloc[test_index]}\") \n",
        "        print(f\"Retrieved Question: {train_QA_df[train_column_name].iloc[sim_Q_index]}\")\n",
        "        print(f\"Score: {sim}\")\n",
        "        print(\"-----------------------------\")"
      ]
    },
    {
      "cell_type": "markdown",
      "metadata": {
        "papermill": {
          "duration": 5.504211,
          "end_time": "2020-09-13T16:15:10.096730",
          "exception": false,
          "start_time": "2020-09-13T16:15:04.592519",
          "status": "completed"
        },
        "tags": [],
        "id": "gl4jaCkWpAEc"
      },
      "source": [
        "Let's create sample few question for testing purpose."
      ]
    },
    {
      "cell_type": "code",
      "source": [
        "test_QA_df = pd.read_csv(\"/content/drive/MyDrive/tutorial/FAQ nlp/FAQs_test.csv\")\n",
        "test_QA_df.head()"
      ],
      "metadata": {
        "colab": {
          "base_uri": "https://localhost:8080/",
          "height": 206
        },
        "id": "nVWa1qUjtvSR",
        "outputId": "e86efbe0-362e-4af6-a08c-e1bf5a9c6262"
      },
      "execution_count": 22,
      "outputs": [
        {
          "output_type": "execute_result",
          "data": {
            "text/plain": [
              "                             Question\n",
              "0      What is the date of his death?\n",
              "1         Did Einstein have siblings?\n",
              "2                   Who was his wife?\n",
              "3  What was Einstein's father's name?\n",
              "4  At what institutions did he study?"
            ],
            "text/html": [
              "\n",
              "  <div id=\"df-2b1a22f8-5fc9-4345-95f7-5f8710e3d6a7\">\n",
              "    <div class=\"colab-df-container\">\n",
              "      <div>\n",
              "<style scoped>\n",
              "    .dataframe tbody tr th:only-of-type {\n",
              "        vertical-align: middle;\n",
              "    }\n",
              "\n",
              "    .dataframe tbody tr th {\n",
              "        vertical-align: top;\n",
              "    }\n",
              "\n",
              "    .dataframe thead th {\n",
              "        text-align: right;\n",
              "    }\n",
              "</style>\n",
              "<table border=\"1\" class=\"dataframe\">\n",
              "  <thead>\n",
              "    <tr style=\"text-align: right;\">\n",
              "      <th></th>\n",
              "      <th>Question</th>\n",
              "    </tr>\n",
              "  </thead>\n",
              "  <tbody>\n",
              "    <tr>\n",
              "      <th>0</th>\n",
              "      <td>What is the date of his death?</td>\n",
              "    </tr>\n",
              "    <tr>\n",
              "      <th>1</th>\n",
              "      <td>Did Einstein have siblings?</td>\n",
              "    </tr>\n",
              "    <tr>\n",
              "      <th>2</th>\n",
              "      <td>Who was his wife?</td>\n",
              "    </tr>\n",
              "    <tr>\n",
              "      <th>3</th>\n",
              "      <td>What was Einstein's father's name?</td>\n",
              "    </tr>\n",
              "    <tr>\n",
              "      <th>4</th>\n",
              "      <td>At what institutions did he study?</td>\n",
              "    </tr>\n",
              "  </tbody>\n",
              "</table>\n",
              "</div>\n",
              "      <button class=\"colab-df-convert\" onclick=\"convertToInteractive('df-2b1a22f8-5fc9-4345-95f7-5f8710e3d6a7')\"\n",
              "              title=\"Convert this dataframe to an interactive table.\"\n",
              "              style=\"display:none;\">\n",
              "        \n",
              "  <svg xmlns=\"http://www.w3.org/2000/svg\" height=\"24px\"viewBox=\"0 0 24 24\"\n",
              "       width=\"24px\">\n",
              "    <path d=\"M0 0h24v24H0V0z\" fill=\"none\"/>\n",
              "    <path d=\"M18.56 5.44l.94 2.06.94-2.06 2.06-.94-2.06-.94-.94-2.06-.94 2.06-2.06.94zm-11 1L8.5 8.5l.94-2.06 2.06-.94-2.06-.94L8.5 2.5l-.94 2.06-2.06.94zm10 10l.94 2.06.94-2.06 2.06-.94-2.06-.94-.94-2.06-.94 2.06-2.06.94z\"/><path d=\"M17.41 7.96l-1.37-1.37c-.4-.4-.92-.59-1.43-.59-.52 0-1.04.2-1.43.59L10.3 9.45l-7.72 7.72c-.78.78-.78 2.05 0 2.83L4 21.41c.39.39.9.59 1.41.59.51 0 1.02-.2 1.41-.59l7.78-7.78 2.81-2.81c.8-.78.8-2.07 0-2.86zM5.41 20L4 18.59l7.72-7.72 1.47 1.35L5.41 20z\"/>\n",
              "  </svg>\n",
              "      </button>\n",
              "      \n",
              "  <style>\n",
              "    .colab-df-container {\n",
              "      display:flex;\n",
              "      flex-wrap:wrap;\n",
              "      gap: 12px;\n",
              "    }\n",
              "\n",
              "    .colab-df-convert {\n",
              "      background-color: #E8F0FE;\n",
              "      border: none;\n",
              "      border-radius: 50%;\n",
              "      cursor: pointer;\n",
              "      display: none;\n",
              "      fill: #1967D2;\n",
              "      height: 32px;\n",
              "      padding: 0 0 0 0;\n",
              "      width: 32px;\n",
              "    }\n",
              "\n",
              "    .colab-df-convert:hover {\n",
              "      background-color: #E2EBFA;\n",
              "      box-shadow: 0px 1px 2px rgba(60, 64, 67, 0.3), 0px 1px 3px 1px rgba(60, 64, 67, 0.15);\n",
              "      fill: #174EA6;\n",
              "    }\n",
              "\n",
              "    [theme=dark] .colab-df-convert {\n",
              "      background-color: #3B4455;\n",
              "      fill: #D2E3FC;\n",
              "    }\n",
              "\n",
              "    [theme=dark] .colab-df-convert:hover {\n",
              "      background-color: #434B5C;\n",
              "      box-shadow: 0px 1px 3px 1px rgba(0, 0, 0, 0.15);\n",
              "      filter: drop-shadow(0px 1px 2px rgba(0, 0, 0, 0.3));\n",
              "      fill: #FFFFFF;\n",
              "    }\n",
              "  </style>\n",
              "\n",
              "      <script>\n",
              "        const buttonEl =\n",
              "          document.querySelector('#df-2b1a22f8-5fc9-4345-95f7-5f8710e3d6a7 button.colab-df-convert');\n",
              "        buttonEl.style.display =\n",
              "          google.colab.kernel.accessAllowed ? 'block' : 'none';\n",
              "\n",
              "        async function convertToInteractive(key) {\n",
              "          const element = document.querySelector('#df-2b1a22f8-5fc9-4345-95f7-5f8710e3d6a7');\n",
              "          const dataTable =\n",
              "            await google.colab.kernel.invokeFunction('convertToInteractive',\n",
              "                                                     [key], {});\n",
              "          if (!dataTable) return;\n",
              "\n",
              "          const docLinkHtml = 'Like what you see? Visit the ' +\n",
              "            '<a target=\"_blank\" href=https://colab.research.google.com/notebooks/data_table.ipynb>data table notebook</a>'\n",
              "            + ' to learn more about interactive tables.';\n",
              "          element.innerHTML = '';\n",
              "          dataTable['output_type'] = 'display_data';\n",
              "          await google.colab.output.renderOutput(dataTable, element);\n",
              "          const docLink = document.createElement('div');\n",
              "          docLink.innerHTML = docLinkHtml;\n",
              "          element.appendChild(docLink);\n",
              "        }\n",
              "      </script>\n",
              "    </div>\n",
              "  </div>\n",
              "  "
            ]
          },
          "metadata": {},
          "execution_count": 22
        }
      ]
    },
    {
      "cell_type": "code",
      "execution_count": 23,
      "metadata": {
        "execution": {
          "iopub.execute_input": "2020-09-13T16:15:21.170059Z",
          "iopub.status.busy": "2020-09-13T16:15:21.169281Z",
          "iopub.status.idle": "2020-09-13T16:15:21.238280Z",
          "shell.execute_reply": "2020-09-13T16:15:21.237588Z"
        },
        "papermill": {
          "duration": 5.639393,
          "end_time": "2020-09-13T16:15:21.238420",
          "exception": false,
          "start_time": "2020-09-13T16:15:15.599027",
          "status": "completed"
        },
        "tags": [],
        "id": "lqqpR7dVpAEc"
      },
      "outputs": [],
      "source": [
        "## pre-process testing QA data\n",
        "text_preprocessor = TextPreprocessor(test_QA_df, column_name=\"Question\")\n",
        "query_QA_df = text_preprocessor.process(perform_stopword=True)"
      ]
    },
    {
      "cell_type": "code",
      "execution_count": 24,
      "metadata": {
        "execution": {
          "iopub.execute_input": "2020-09-13T16:15:32.423736Z",
          "iopub.status.busy": "2020-09-13T16:15:32.422657Z",
          "iopub.status.idle": "2020-09-13T16:15:32.427305Z",
          "shell.execute_reply": "2020-09-13T16:15:32.427835Z"
        },
        "papermill": {
          "duration": 5.686774,
          "end_time": "2020-09-13T16:15:32.427991",
          "exception": false,
          "start_time": "2020-09-13T16:15:26.741217",
          "status": "completed"
        },
        "tags": [],
        "colab": {
          "base_uri": "https://localhost:8080/",
          "height": 206
        },
        "id": "Bw8zF49UpAEc",
        "outputId": "30aa965b-a1b3-4d6c-9f8d-4be6f4c78847"
      },
      "outputs": [
        {
          "output_type": "execute_result",
          "data": {
            "text/plain": [
              "                             Question   processed_Question\n",
              "0      what is the date of his death            date death\n",
              "1         did einstein have siblings     einstein siblings\n",
              "2                   who was his wife                  wife\n",
              "3  what was einstein s father s name   einstein s father s\n",
              "4  at what institutions did he study    institutions study"
            ],
            "text/html": [
              "\n",
              "  <div id=\"df-ed46c120-164e-4c1a-a3b0-cc3d616b4ebf\">\n",
              "    <div class=\"colab-df-container\">\n",
              "      <div>\n",
              "<style scoped>\n",
              "    .dataframe tbody tr th:only-of-type {\n",
              "        vertical-align: middle;\n",
              "    }\n",
              "\n",
              "    .dataframe tbody tr th {\n",
              "        vertical-align: top;\n",
              "    }\n",
              "\n",
              "    .dataframe thead th {\n",
              "        text-align: right;\n",
              "    }\n",
              "</style>\n",
              "<table border=\"1\" class=\"dataframe\">\n",
              "  <thead>\n",
              "    <tr style=\"text-align: right;\">\n",
              "      <th></th>\n",
              "      <th>Question</th>\n",
              "      <th>processed_Question</th>\n",
              "    </tr>\n",
              "  </thead>\n",
              "  <tbody>\n",
              "    <tr>\n",
              "      <th>0</th>\n",
              "      <td>what is the date of his death</td>\n",
              "      <td>date death</td>\n",
              "    </tr>\n",
              "    <tr>\n",
              "      <th>1</th>\n",
              "      <td>did einstein have siblings</td>\n",
              "      <td>einstein siblings</td>\n",
              "    </tr>\n",
              "    <tr>\n",
              "      <th>2</th>\n",
              "      <td>who was his wife</td>\n",
              "      <td>wife</td>\n",
              "    </tr>\n",
              "    <tr>\n",
              "      <th>3</th>\n",
              "      <td>what was einstein s father s name</td>\n",
              "      <td>einstein s father s</td>\n",
              "    </tr>\n",
              "    <tr>\n",
              "      <th>4</th>\n",
              "      <td>at what institutions did he study</td>\n",
              "      <td>institutions study</td>\n",
              "    </tr>\n",
              "  </tbody>\n",
              "</table>\n",
              "</div>\n",
              "      <button class=\"colab-df-convert\" onclick=\"convertToInteractive('df-ed46c120-164e-4c1a-a3b0-cc3d616b4ebf')\"\n",
              "              title=\"Convert this dataframe to an interactive table.\"\n",
              "              style=\"display:none;\">\n",
              "        \n",
              "  <svg xmlns=\"http://www.w3.org/2000/svg\" height=\"24px\"viewBox=\"0 0 24 24\"\n",
              "       width=\"24px\">\n",
              "    <path d=\"M0 0h24v24H0V0z\" fill=\"none\"/>\n",
              "    <path d=\"M18.56 5.44l.94 2.06.94-2.06 2.06-.94-2.06-.94-.94-2.06-.94 2.06-2.06.94zm-11 1L8.5 8.5l.94-2.06 2.06-.94-2.06-.94L8.5 2.5l-.94 2.06-2.06.94zm10 10l.94 2.06.94-2.06 2.06-.94-2.06-.94-.94-2.06-.94 2.06-2.06.94z\"/><path d=\"M17.41 7.96l-1.37-1.37c-.4-.4-.92-.59-1.43-.59-.52 0-1.04.2-1.43.59L10.3 9.45l-7.72 7.72c-.78.78-.78 2.05 0 2.83L4 21.41c.39.39.9.59 1.41.59.51 0 1.02-.2 1.41-.59l7.78-7.78 2.81-2.81c.8-.78.8-2.07 0-2.86zM5.41 20L4 18.59l7.72-7.72 1.47 1.35L5.41 20z\"/>\n",
              "  </svg>\n",
              "      </button>\n",
              "      \n",
              "  <style>\n",
              "    .colab-df-container {\n",
              "      display:flex;\n",
              "      flex-wrap:wrap;\n",
              "      gap: 12px;\n",
              "    }\n",
              "\n",
              "    .colab-df-convert {\n",
              "      background-color: #E8F0FE;\n",
              "      border: none;\n",
              "      border-radius: 50%;\n",
              "      cursor: pointer;\n",
              "      display: none;\n",
              "      fill: #1967D2;\n",
              "      height: 32px;\n",
              "      padding: 0 0 0 0;\n",
              "      width: 32px;\n",
              "    }\n",
              "\n",
              "    .colab-df-convert:hover {\n",
              "      background-color: #E2EBFA;\n",
              "      box-shadow: 0px 1px 2px rgba(60, 64, 67, 0.3), 0px 1px 3px 1px rgba(60, 64, 67, 0.15);\n",
              "      fill: #174EA6;\n",
              "    }\n",
              "\n",
              "    [theme=dark] .colab-df-convert {\n",
              "      background-color: #3B4455;\n",
              "      fill: #D2E3FC;\n",
              "    }\n",
              "\n",
              "    [theme=dark] .colab-df-convert:hover {\n",
              "      background-color: #434B5C;\n",
              "      box-shadow: 0px 1px 3px 1px rgba(0, 0, 0, 0.15);\n",
              "      filter: drop-shadow(0px 1px 2px rgba(0, 0, 0, 0.3));\n",
              "      fill: #FFFFFF;\n",
              "    }\n",
              "  </style>\n",
              "\n",
              "      <script>\n",
              "        const buttonEl =\n",
              "          document.querySelector('#df-ed46c120-164e-4c1a-a3b0-cc3d616b4ebf button.colab-df-convert');\n",
              "        buttonEl.style.display =\n",
              "          google.colab.kernel.accessAllowed ? 'block' : 'none';\n",
              "\n",
              "        async function convertToInteractive(key) {\n",
              "          const element = document.querySelector('#df-ed46c120-164e-4c1a-a3b0-cc3d616b4ebf');\n",
              "          const dataTable =\n",
              "            await google.colab.kernel.invokeFunction('convertToInteractive',\n",
              "                                                     [key], {});\n",
              "          if (!dataTable) return;\n",
              "\n",
              "          const docLinkHtml = 'Like what you see? Visit the ' +\n",
              "            '<a target=\"_blank\" href=https://colab.research.google.com/notebooks/data_table.ipynb>data table notebook</a>'\n",
              "            + ' to learn more about interactive tables.';\n",
              "          element.innerHTML = '';\n",
              "          dataTable['output_type'] = 'display_data';\n",
              "          await google.colab.output.renderOutput(dataTable, element);\n",
              "          const docLink = document.createElement('div');\n",
              "          docLink.innerHTML = docLinkHtml;\n",
              "          element.appendChild(docLink);\n",
              "        }\n",
              "      </script>\n",
              "    </div>\n",
              "  </div>\n",
              "  "
            ]
          },
          "metadata": {},
          "execution_count": 24
        }
      ],
      "source": [
        "## TF-IDF vector represetation\n",
        "query_QA_vectors = tf_idf.get_vector_for_test_set(query_QA_df, \"processed_Question\")\n",
        "query_QA_df.head()"
      ]
    },
    {
      "cell_type": "markdown",
      "metadata": {
        "papermill": {
          "duration": 5.505108,
          "end_time": "2020-09-13T16:16:05.665880",
          "exception": false,
          "start_time": "2020-09-13T16:16:00.160772",
          "status": "completed"
        },
        "tags": [],
        "id": "hoSYnoh1pAEd"
      },
      "source": [
        "### Test with Embeddings"
      ]
    },
    {
      "cell_type": "code",
      "execution_count": 25,
      "metadata": {
        "execution": {
          "iopub.execute_input": "2020-09-13T16:16:16.874945Z",
          "iopub.status.busy": "2020-09-13T16:16:16.874000Z",
          "iopub.status.idle": "2020-09-13T16:16:16.878040Z",
          "shell.execute_reply": "2020-09-13T16:16:16.878880Z"
        },
        "papermill": {
          "duration": 5.670925,
          "end_time": "2020-09-13T16:16:16.879109",
          "exception": false,
          "start_time": "2020-09-13T16:16:11.208184",
          "status": "completed"
        },
        "tags": [],
        "colab": {
          "base_uri": "https://localhost:8080/"
        },
        "id": "AU48zkSJpAEd",
        "outputId": "b1858751-7b62-48d8-dc44-6959cf429363"
      },
      "outputs": [
        {
          "output_type": "stream",
          "name": "stdout",
          "text": [
            "######\n",
            "Query Question: what is the date of his death \n",
            "Retrieved Question: did he marry and have children \n",
            "Score: 0.8474869727438736\n",
            "-----------------------------\n",
            "######\n",
            "Query Question: did einstein have siblings \n",
            "Retrieved Question: did he marry and have children \n",
            "Score: 0.8570299123210484\n",
            "-----------------------------\n",
            "######\n",
            "Query Question: who was his wife \n",
            "Retrieved Question: did he marry and have children \n",
            "Score: 0.8876234649257587\n",
            "-----------------------------\n",
            "######\n",
            "Query Question: what was einstein s father s name \n",
            "Retrieved Question: when was albert einstein born \n",
            "Score: 0.7792911365065182\n",
            "-----------------------------\n",
            "######\n",
            "Query Question: at what institutions did he study \n",
            "Retrieved Question: where did he receive his education \n",
            "Score: 0.8314761186414249\n",
            "-----------------------------\n"
          ]
        }
      ],
      "source": [
        "## get the sentence embedding for COVID QA query\n",
        "query_QA_embeddings = embedding.get_sentence_embeddings(query_QA_df, \"processed_Question\")\n",
        "\n",
        "retrieveSimilarFAQ(question_QA_embeddings, query_QA_embeddings, processed_QA_df, \"Question\", query_QA_df, \"Question\")"
      ]
    },
    {
      "cell_type": "markdown",
      "metadata": {
        "_kg_hide-input": false,
        "papermill": {
          "duration": 5.600585,
          "end_time": "2020-09-13T16:16:27.929282",
          "exception": false,
          "start_time": "2020-09-13T16:16:22.328697",
          "status": "completed"
        },
        "tags": [],
        "id": "roYWddvhpAEd"
      },
      "source": [
        "### Test with BERT Embeddings"
      ]
    },
    {
      "cell_type": "code",
      "execution_count": 26,
      "metadata": {
        "execution": {
          "iopub.execute_input": "2020-09-13T16:16:39.155184Z",
          "iopub.status.busy": "2020-09-13T16:16:39.154384Z",
          "iopub.status.idle": "2020-09-13T16:16:41.701020Z",
          "shell.execute_reply": "2020-09-13T16:16:41.700371Z"
        },
        "papermill": {
          "duration": 8.211957,
          "end_time": "2020-09-13T16:16:41.701154",
          "exception": false,
          "start_time": "2020-09-13T16:16:33.489197",
          "status": "completed"
        },
        "tags": [],
        "id": "V4v4sTUXpAEd"
      },
      "outputs": [],
      "source": [
        "query_QA_bert_embeddings_list = get_bert_embeddings(test_QA_df[\"Question\"].to_list())"
      ]
    },
    {
      "cell_type": "code",
      "execution_count": 27,
      "metadata": {
        "_kg_hide-input": true,
        "_kg_hide-output": true,
        "execution": {
          "iopub.execute_input": "2020-09-13T16:16:52.706357Z",
          "iopub.status.busy": "2020-09-13T16:16:52.705503Z",
          "iopub.status.idle": "2020-09-13T16:16:52.708994Z",
          "shell.execute_reply": "2020-09-13T16:16:52.708238Z"
        },
        "papermill": {
          "duration": 5.492554,
          "end_time": "2020-09-13T16:16:52.709121",
          "exception": false,
          "start_time": "2020-09-13T16:16:47.216567",
          "status": "completed"
        },
        "tags": [],
        "id": "Lt3_PLFnpAEd"
      },
      "outputs": [],
      "source": [
        "## store QA bert embeddings in list\n",
        "question_QA_bert_embeddings = []\n",
        "for embeddings in question_QA_bert_embeddings_list:\n",
        "    question_QA_bert_embeddings.append(embeddings[1])\n",
        "\n",
        "## store query string bert embeddings in list\n",
        "query_QA_bert_embeddings = []\n",
        "for embeddings in query_QA_bert_embeddings_list:\n",
        "    query_QA_bert_embeddings.append(embeddings[1])"
      ]
    },
    {
      "cell_type": "code",
      "execution_count": 28,
      "metadata": {
        "execution": {
          "iopub.execute_input": "2020-09-13T16:17:03.766161Z",
          "iopub.status.busy": "2020-09-13T16:17:03.765398Z",
          "iopub.status.idle": "2020-09-13T16:17:03.918007Z",
          "shell.execute_reply": "2020-09-13T16:17:03.918649Z"
        },
        "papermill": {
          "duration": 5.651876,
          "end_time": "2020-09-13T16:17:03.918813",
          "exception": false,
          "start_time": "2020-09-13T16:16:58.266937",
          "status": "completed"
        },
        "tags": [],
        "colab": {
          "base_uri": "https://localhost:8080/"
        },
        "id": "z3CW7QW4pAEd",
        "outputId": "9eea19c2-8244-4020-f9b7-c58fbfa48788"
      },
      "outputs": [
        {
          "output_type": "stream",
          "name": "stdout",
          "text": [
            "######\n",
            "Query Question: what is the date of his death \n",
            "Retrieved Question: when was albert einstein born \n",
            "Score: 0.7349212169647217\n",
            "-----------------------------\n",
            "######\n",
            "Query Question: did einstein have siblings \n",
            "Retrieved Question: did he have any sisters and brothers \n",
            "Score: 0.8166143298149109\n",
            "-----------------------------\n",
            "######\n",
            "Query Question: who was his wife \n",
            "Retrieved Question: who were his parents \n",
            "Score: 0.8101394772529602\n",
            "-----------------------------\n",
            "######\n",
            "Query Question: what was einstein s father s name \n",
            "Retrieved Question: where was he born \n",
            "Score: 0.6459028720855713\n",
            "-----------------------------\n",
            "######\n",
            "Query Question: at what institutions did he study \n",
            "Retrieved Question: where did he receive his education \n",
            "Score: 0.4249792993068695\n",
            "-----------------------------\n"
          ]
        }
      ],
      "source": [
        "retrieveSimilarFAQ(question_QA_bert_embeddings, query_QA_bert_embeddings, processed_QA_df, \"Question\", query_QA_df, \"Question\")"
      ]
    }
  ],
  "metadata": {
    "kernelspec": {
      "display_name": "Python 3",
      "language": "python",
      "name": "python3"
    },
    "language_info": {
      "codemirror_mode": {
        "name": "ipython",
        "version": 3
      },
      "file_extension": ".py",
      "mimetype": "text/x-python",
      "name": "python",
      "nbconvert_exporter": "python",
      "pygments_lexer": "ipython3",
      "version": "3.7.6"
    },
    "papermill": {
      "duration": 471.658605,
      "end_time": "2020-09-13T16:17:42.994072",
      "environment_variables": {},
      "exception": null,
      "input_path": "__notebook__.ipynb",
      "output_path": "__notebook__.ipynb",
      "parameters": {},
      "start_time": "2020-09-13T16:09:51.335467",
      "version": "2.1.0"
    },
    "colab": {
      "provenance": [],
      "toc_visible": true
    },
    "accelerator": "GPU",
    "gpuClass": "standard"
  },
  "nbformat": 4,
  "nbformat_minor": 0
}